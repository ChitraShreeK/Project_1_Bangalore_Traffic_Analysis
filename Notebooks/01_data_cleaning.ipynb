{
 "cells": [
  {
   "cell_type": "code",
   "execution_count": 1,
   "id": "3bc52468",
   "metadata": {},
   "outputs": [],
   "source": [
    "import pandas as pd\n",
    "import numpy as np\n",
    "import matplotlib.pyplot as plt\n",
    "import seaborn as sns\n",
    "import warnings\n",
    "warnings.filterwarnings(\"ignore\")"
   ]
  },
  {
   "cell_type": "code",
   "execution_count": 2,
   "id": "4ce671ed",
   "metadata": {},
   "outputs": [
    {
     "data": {
      "text/html": [
       "<div>\n",
       "<style scoped>\n",
       "    .dataframe tbody tr th:only-of-type {\n",
       "        vertical-align: middle;\n",
       "    }\n",
       "\n",
       "    .dataframe tbody tr th {\n",
       "        vertical-align: top;\n",
       "    }\n",
       "\n",
       "    .dataframe thead th {\n",
       "        text-align: right;\n",
       "    }\n",
       "</style>\n",
       "<table border=\"1\" class=\"dataframe\">\n",
       "  <thead>\n",
       "    <tr style=\"text-align: right;\">\n",
       "      <th></th>\n",
       "      <th>Date</th>\n",
       "      <th>Area Name</th>\n",
       "      <th>Road/Intersection Name</th>\n",
       "      <th>Traffic Volume</th>\n",
       "      <th>Average Speed</th>\n",
       "      <th>Travel Time Index</th>\n",
       "      <th>Congestion Level</th>\n",
       "      <th>Road Capacity Utilization</th>\n",
       "      <th>Incident Reports</th>\n",
       "      <th>Environmental Impact</th>\n",
       "      <th>Public Transport Usage</th>\n",
       "      <th>Traffic Signal Compliance</th>\n",
       "      <th>Parking Usage</th>\n",
       "      <th>Pedestrian and Cyclist Count</th>\n",
       "      <th>Weather Conditions</th>\n",
       "      <th>Roadwork and Construction Activity</th>\n",
       "    </tr>\n",
       "  </thead>\n",
       "  <tbody>\n",
       "    <tr>\n",
       "      <th>8931</th>\n",
       "      <td>2024-08-09</td>\n",
       "      <td>Electronic City</td>\n",
       "      <td>Hosur Road</td>\n",
       "      <td>11387</td>\n",
       "      <td>23.440276</td>\n",
       "      <td>1.262384</td>\n",
       "      <td>35.871483</td>\n",
       "      <td>57.354487</td>\n",
       "      <td>1</td>\n",
       "      <td>72.774</td>\n",
       "      <td>21.523289</td>\n",
       "      <td>83.530352</td>\n",
       "      <td>97.898279</td>\n",
       "      <td>211</td>\n",
       "      <td>Fog</td>\n",
       "      <td>No</td>\n",
       "    </tr>\n",
       "    <tr>\n",
       "      <th>8932</th>\n",
       "      <td>2024-08-09</td>\n",
       "      <td>M.G. Road</td>\n",
       "      <td>Trinity Circle</td>\n",
       "      <td>36477</td>\n",
       "      <td>45.168429</td>\n",
       "      <td>1.500000</td>\n",
       "      <td>100.000000</td>\n",
       "      <td>100.000000</td>\n",
       "      <td>3</td>\n",
       "      <td>122.954</td>\n",
       "      <td>29.822312</td>\n",
       "      <td>60.738488</td>\n",
       "      <td>60.355967</td>\n",
       "      <td>95</td>\n",
       "      <td>Clear</td>\n",
       "      <td>No</td>\n",
       "    </tr>\n",
       "    <tr>\n",
       "      <th>8933</th>\n",
       "      <td>2024-08-09</td>\n",
       "      <td>M.G. Road</td>\n",
       "      <td>Anil Kumble Circle</td>\n",
       "      <td>42822</td>\n",
       "      <td>22.028609</td>\n",
       "      <td>1.500000</td>\n",
       "      <td>100.000000</td>\n",
       "      <td>100.000000</td>\n",
       "      <td>1</td>\n",
       "      <td>135.644</td>\n",
       "      <td>43.185905</td>\n",
       "      <td>85.321627</td>\n",
       "      <td>61.333731</td>\n",
       "      <td>110</td>\n",
       "      <td>Clear</td>\n",
       "      <td>No</td>\n",
       "    </tr>\n",
       "    <tr>\n",
       "      <th>8934</th>\n",
       "      <td>2024-08-09</td>\n",
       "      <td>Jayanagar</td>\n",
       "      <td>South End Circle</td>\n",
       "      <td>20540</td>\n",
       "      <td>52.254798</td>\n",
       "      <td>1.020520</td>\n",
       "      <td>72.639152</td>\n",
       "      <td>97.845527</td>\n",
       "      <td>2</td>\n",
       "      <td>91.080</td>\n",
       "      <td>44.416043</td>\n",
       "      <td>89.586947</td>\n",
       "      <td>79.197198</td>\n",
       "      <td>94</td>\n",
       "      <td>Clear</td>\n",
       "      <td>No</td>\n",
       "    </tr>\n",
       "    <tr>\n",
       "      <th>8935</th>\n",
       "      <td>2024-08-09</td>\n",
       "      <td>Yeshwanthpur</td>\n",
       "      <td>Yeshwanthpur Circle</td>\n",
       "      <td>14705</td>\n",
       "      <td>31.128967</td>\n",
       "      <td>1.048720</td>\n",
       "      <td>43.409821</td>\n",
       "      <td>77.734621</td>\n",
       "      <td>1</td>\n",
       "      <td>79.410</td>\n",
       "      <td>26.616725</td>\n",
       "      <td>80.778753</td>\n",
       "      <td>60.602672</td>\n",
       "      <td>201</td>\n",
       "      <td>Rain</td>\n",
       "      <td>No</td>\n",
       "    </tr>\n",
       "  </tbody>\n",
       "</table>\n",
       "</div>"
      ],
      "text/plain": [
       "            Date        Area Name Road/Intersection Name  Traffic Volume  \\\n",
       "8931  2024-08-09  Electronic City             Hosur Road           11387   \n",
       "8932  2024-08-09        M.G. Road         Trinity Circle           36477   \n",
       "8933  2024-08-09        M.G. Road     Anil Kumble Circle           42822   \n",
       "8934  2024-08-09        Jayanagar       South End Circle           20540   \n",
       "8935  2024-08-09     Yeshwanthpur    Yeshwanthpur Circle           14705   \n",
       "\n",
       "      Average Speed  Travel Time Index  Congestion Level  \\\n",
       "8931      23.440276           1.262384         35.871483   \n",
       "8932      45.168429           1.500000        100.000000   \n",
       "8933      22.028609           1.500000        100.000000   \n",
       "8934      52.254798           1.020520         72.639152   \n",
       "8935      31.128967           1.048720         43.409821   \n",
       "\n",
       "      Road Capacity Utilization  Incident Reports  Environmental Impact  \\\n",
       "8931                  57.354487                 1                72.774   \n",
       "8932                 100.000000                 3               122.954   \n",
       "8933                 100.000000                 1               135.644   \n",
       "8934                  97.845527                 2                91.080   \n",
       "8935                  77.734621                 1                79.410   \n",
       "\n",
       "      Public Transport Usage  Traffic Signal Compliance  Parking Usage  \\\n",
       "8931               21.523289                  83.530352      97.898279   \n",
       "8932               29.822312                  60.738488      60.355967   \n",
       "8933               43.185905                  85.321627      61.333731   \n",
       "8934               44.416043                  89.586947      79.197198   \n",
       "8935               26.616725                  80.778753      60.602672   \n",
       "\n",
       "      Pedestrian and Cyclist Count Weather Conditions  \\\n",
       "8931                           211                Fog   \n",
       "8932                            95              Clear   \n",
       "8933                           110              Clear   \n",
       "8934                            94              Clear   \n",
       "8935                           201               Rain   \n",
       "\n",
       "     Roadwork and Construction Activity  \n",
       "8931                                 No  \n",
       "8932                                 No  \n",
       "8933                                 No  \n",
       "8934                                 No  \n",
       "8935                                 No  "
      ]
     },
     "execution_count": 2,
     "metadata": {},
     "output_type": "execute_result"
    }
   ],
   "source": [
    "# importing datasets\n",
    "df = pd.read_csv(\"..\\dataset\\Banglore_traffic_Dataset_raw.csv\")\n",
    "df.tail()"
   ]
  },
  {
   "cell_type": "code",
   "execution_count": 3,
   "id": "802ab2df",
   "metadata": {},
   "outputs": [
    {
     "name": "stdout",
     "output_type": "stream",
     "text": [
      "<class 'pandas.core.frame.DataFrame'>\n",
      "RangeIndex: 8936 entries, 0 to 8935\n",
      "Data columns (total 16 columns):\n",
      " #   Column                              Non-Null Count  Dtype  \n",
      "---  ------                              --------------  -----  \n",
      " 0   Date                                8936 non-null   object \n",
      " 1   Area Name                           8936 non-null   object \n",
      " 2   Road/Intersection Name              8936 non-null   object \n",
      " 3   Traffic Volume                      8936 non-null   int64  \n",
      " 4   Average Speed                       8936 non-null   float64\n",
      " 5   Travel Time Index                   8936 non-null   float64\n",
      " 6   Congestion Level                    8936 non-null   float64\n",
      " 7   Road Capacity Utilization           8936 non-null   float64\n",
      " 8   Incident Reports                    8936 non-null   int64  \n",
      " 9   Environmental Impact                8936 non-null   float64\n",
      " 10  Public Transport Usage              8936 non-null   float64\n",
      " 11  Traffic Signal Compliance           8936 non-null   float64\n",
      " 12  Parking Usage                       8936 non-null   float64\n",
      " 13  Pedestrian and Cyclist Count        8936 non-null   int64  \n",
      " 14  Weather Conditions                  8936 non-null   object \n",
      " 15  Roadwork and Construction Activity  8936 non-null   object \n",
      "dtypes: float64(8), int64(3), object(5)\n",
      "memory usage: 1.1+ MB\n"
     ]
    }
   ],
   "source": [
    "# copying the original dataset file\n",
    "df_copy = df.copy()\n",
    "df_copy.info()"
   ]
  },
  {
   "cell_type": "code",
   "execution_count": 4,
   "id": "e35551a6",
   "metadata": {},
   "outputs": [
    {
     "data": {
      "text/html": [
       "<div>\n",
       "<style scoped>\n",
       "    .dataframe tbody tr th:only-of-type {\n",
       "        vertical-align: middle;\n",
       "    }\n",
       "\n",
       "    .dataframe tbody tr th {\n",
       "        vertical-align: top;\n",
       "    }\n",
       "\n",
       "    .dataframe thead th {\n",
       "        text-align: right;\n",
       "    }\n",
       "</style>\n",
       "<table border=\"1\" class=\"dataframe\">\n",
       "  <thead>\n",
       "    <tr style=\"text-align: right;\">\n",
       "      <th></th>\n",
       "      <th>Traffic Volume</th>\n",
       "      <th>Average Speed</th>\n",
       "      <th>Travel Time Index</th>\n",
       "      <th>Congestion Level</th>\n",
       "      <th>Road Capacity Utilization</th>\n",
       "      <th>Incident Reports</th>\n",
       "      <th>Environmental Impact</th>\n",
       "      <th>Public Transport Usage</th>\n",
       "      <th>Traffic Signal Compliance</th>\n",
       "      <th>Parking Usage</th>\n",
       "      <th>Pedestrian and Cyclist Count</th>\n",
       "    </tr>\n",
       "  </thead>\n",
       "  <tbody>\n",
       "    <tr>\n",
       "      <th>count</th>\n",
       "      <td>8936.000000</td>\n",
       "      <td>8936.000000</td>\n",
       "      <td>8936.000000</td>\n",
       "      <td>8936.000000</td>\n",
       "      <td>8936.000000</td>\n",
       "      <td>8936.000000</td>\n",
       "      <td>8936.000000</td>\n",
       "      <td>8936.000000</td>\n",
       "      <td>8936.000000</td>\n",
       "      <td>8936.000000</td>\n",
       "      <td>8936.000000</td>\n",
       "    </tr>\n",
       "    <tr>\n",
       "      <th>mean</th>\n",
       "      <td>29236.048120</td>\n",
       "      <td>39.447427</td>\n",
       "      <td>1.375554</td>\n",
       "      <td>80.818041</td>\n",
       "      <td>92.029215</td>\n",
       "      <td>1.570389</td>\n",
       "      <td>108.472096</td>\n",
       "      <td>45.086651</td>\n",
       "      <td>79.950243</td>\n",
       "      <td>75.155597</td>\n",
       "      <td>114.533348</td>\n",
       "    </tr>\n",
       "    <tr>\n",
       "      <th>std</th>\n",
       "      <td>13001.808801</td>\n",
       "      <td>10.707244</td>\n",
       "      <td>0.165319</td>\n",
       "      <td>23.533182</td>\n",
       "      <td>16.583341</td>\n",
       "      <td>1.420047</td>\n",
       "      <td>26.003618</td>\n",
       "      <td>20.208460</td>\n",
       "      <td>11.585006</td>\n",
       "      <td>14.409394</td>\n",
       "      <td>36.812573</td>\n",
       "    </tr>\n",
       "    <tr>\n",
       "      <th>min</th>\n",
       "      <td>4233.000000</td>\n",
       "      <td>20.000000</td>\n",
       "      <td>1.000039</td>\n",
       "      <td>5.160279</td>\n",
       "      <td>18.739771</td>\n",
       "      <td>0.000000</td>\n",
       "      <td>58.466000</td>\n",
       "      <td>10.006853</td>\n",
       "      <td>60.003933</td>\n",
       "      <td>50.020411</td>\n",
       "      <td>66.000000</td>\n",
       "    </tr>\n",
       "    <tr>\n",
       "      <th>25%</th>\n",
       "      <td>19413.000000</td>\n",
       "      <td>31.775825</td>\n",
       "      <td>1.242459</td>\n",
       "      <td>64.292905</td>\n",
       "      <td>97.354990</td>\n",
       "      <td>0.000000</td>\n",
       "      <td>88.826000</td>\n",
       "      <td>27.341191</td>\n",
       "      <td>69.828270</td>\n",
       "      <td>62.545895</td>\n",
       "      <td>94.000000</td>\n",
       "    </tr>\n",
       "    <tr>\n",
       "      <th>50%</th>\n",
       "      <td>27600.000000</td>\n",
       "      <td>39.199368</td>\n",
       "      <td>1.500000</td>\n",
       "      <td>92.389018</td>\n",
       "      <td>100.000000</td>\n",
       "      <td>1.000000</td>\n",
       "      <td>105.200000</td>\n",
       "      <td>45.170684</td>\n",
       "      <td>79.992773</td>\n",
       "      <td>75.317610</td>\n",
       "      <td>102.000000</td>\n",
       "    </tr>\n",
       "    <tr>\n",
       "      <th>75%</th>\n",
       "      <td>38058.500000</td>\n",
       "      <td>46.644517</td>\n",
       "      <td>1.500000</td>\n",
       "      <td>100.000000</td>\n",
       "      <td>100.000000</td>\n",
       "      <td>2.000000</td>\n",
       "      <td>126.117000</td>\n",
       "      <td>62.426485</td>\n",
       "      <td>89.957358</td>\n",
       "      <td>87.518589</td>\n",
       "      <td>111.000000</td>\n",
       "    </tr>\n",
       "    <tr>\n",
       "      <th>max</th>\n",
       "      <td>72039.000000</td>\n",
       "      <td>89.790843</td>\n",
       "      <td>1.500000</td>\n",
       "      <td>100.000000</td>\n",
       "      <td>100.000000</td>\n",
       "      <td>10.000000</td>\n",
       "      <td>194.078000</td>\n",
       "      <td>79.979744</td>\n",
       "      <td>99.993652</td>\n",
       "      <td>99.995049</td>\n",
       "      <td>243.000000</td>\n",
       "    </tr>\n",
       "  </tbody>\n",
       "</table>\n",
       "</div>"
      ],
      "text/plain": [
       "       Traffic Volume  Average Speed  Travel Time Index  Congestion Level  \\\n",
       "count     8936.000000    8936.000000        8936.000000       8936.000000   \n",
       "mean     29236.048120      39.447427           1.375554         80.818041   \n",
       "std      13001.808801      10.707244           0.165319         23.533182   \n",
       "min       4233.000000      20.000000           1.000039          5.160279   \n",
       "25%      19413.000000      31.775825           1.242459         64.292905   \n",
       "50%      27600.000000      39.199368           1.500000         92.389018   \n",
       "75%      38058.500000      46.644517           1.500000        100.000000   \n",
       "max      72039.000000      89.790843           1.500000        100.000000   \n",
       "\n",
       "       Road Capacity Utilization  Incident Reports  Environmental Impact  \\\n",
       "count                8936.000000       8936.000000           8936.000000   \n",
       "mean                   92.029215          1.570389            108.472096   \n",
       "std                    16.583341          1.420047             26.003618   \n",
       "min                    18.739771          0.000000             58.466000   \n",
       "25%                    97.354990          0.000000             88.826000   \n",
       "50%                   100.000000          1.000000            105.200000   \n",
       "75%                   100.000000          2.000000            126.117000   \n",
       "max                   100.000000         10.000000            194.078000   \n",
       "\n",
       "       Public Transport Usage  Traffic Signal Compliance  Parking Usage  \\\n",
       "count             8936.000000                8936.000000    8936.000000   \n",
       "mean                45.086651                  79.950243      75.155597   \n",
       "std                 20.208460                  11.585006      14.409394   \n",
       "min                 10.006853                  60.003933      50.020411   \n",
       "25%                 27.341191                  69.828270      62.545895   \n",
       "50%                 45.170684                  79.992773      75.317610   \n",
       "75%                 62.426485                  89.957358      87.518589   \n",
       "max                 79.979744                  99.993652      99.995049   \n",
       "\n",
       "       Pedestrian and Cyclist Count  \n",
       "count                   8936.000000  \n",
       "mean                     114.533348  \n",
       "std                       36.812573  \n",
       "min                       66.000000  \n",
       "25%                       94.000000  \n",
       "50%                      102.000000  \n",
       "75%                      111.000000  \n",
       "max                      243.000000  "
      ]
     },
     "execution_count": 4,
     "metadata": {},
     "output_type": "execute_result"
    }
   ],
   "source": [
    "df_copy.describe()"
   ]
  },
  {
   "cell_type": "code",
   "execution_count": 5,
   "id": "e82162f2",
   "metadata": {},
   "outputs": [
    {
     "data": {
      "text/plain": [
       "Date                                  0\n",
       "Area Name                             0\n",
       "Road/Intersection Name                0\n",
       "Traffic Volume                        0\n",
       "Average Speed                         0\n",
       "Travel Time Index                     0\n",
       "Congestion Level                      0\n",
       "Road Capacity Utilization             0\n",
       "Incident Reports                      0\n",
       "Environmental Impact                  0\n",
       "Public Transport Usage                0\n",
       "Traffic Signal Compliance             0\n",
       "Parking Usage                         0\n",
       "Pedestrian and Cyclist Count          0\n",
       "Weather Conditions                    0\n",
       "Roadwork and Construction Activity    0\n",
       "dtype: int64"
      ]
     },
     "execution_count": 5,
     "metadata": {},
     "output_type": "execute_result"
    }
   ],
   "source": [
    "# checking for null values\n",
    "missing_count = df_copy.isnull().sum().sort_values(ascending = False)\n",
    "missing_count"
   ]
  },
  {
   "cell_type": "code",
   "execution_count": 6,
   "id": "b0e50019",
   "metadata": {},
   "outputs": [
    {
     "data": {
      "text/plain": [
       "Date                                  0\n",
       "Area Name                             0\n",
       "Road/Intersection Name                0\n",
       "Traffic Volume                        0\n",
       "Average Speed                         0\n",
       "Travel Time Index                     0\n",
       "Congestion Level                      0\n",
       "Road Capacity Utilization             0\n",
       "Incident Reports                      0\n",
       "Environmental Impact                  0\n",
       "Public Transport Usage                0\n",
       "Traffic Signal Compliance             0\n",
       "Parking Usage                         0\n",
       "Pedestrian and Cyclist Count          0\n",
       "Weather Conditions                    0\n",
       "Roadwork and Construction Activity    0\n",
       "dtype: int64"
      ]
     },
     "execution_count": 6,
     "metadata": {},
     "output_type": "execute_result"
    }
   ],
   "source": [
    "# checking for NaN values\n",
    "find_na = df_copy.isna().sum()\n",
    "find_na"
   ]
  },
  {
   "cell_type": "code",
   "execution_count": 7,
   "id": "e380e045",
   "metadata": {},
   "outputs": [
    {
     "data": {
      "text/plain": [
       "True"
      ]
     },
     "execution_count": 7,
     "metadata": {},
     "output_type": "execute_result"
    }
   ],
   "source": [
    "# checking index values are unique or not\n",
    "df_copy.index.is_unique"
   ]
  },
  {
   "cell_type": "code",
   "execution_count": 8,
   "id": "62aaed15",
   "metadata": {},
   "outputs": [
    {
     "data": {
      "text/plain": [
       "np.int64(0)"
      ]
     },
     "execution_count": 8,
     "metadata": {},
     "output_type": "execute_result"
    }
   ],
   "source": [
    "# Checking for any duplicate values\n",
    "duplicate_values = df_copy.duplicated().sum()\n",
    "duplicate_values"
   ]
  },
  {
   "cell_type": "code",
   "execution_count": 9,
   "id": "1afaf78f",
   "metadata": {},
   "outputs": [
    {
     "name": "stdout",
     "output_type": "stream",
     "text": [
      "<class 'pandas.core.frame.DataFrame'>\n",
      "RangeIndex: 8936 entries, 0 to 8935\n",
      "Data columns (total 16 columns):\n",
      " #   Column                              Non-Null Count  Dtype         \n",
      "---  ------                              --------------  -----         \n",
      " 0   Date                                8936 non-null   datetime64[ns]\n",
      " 1   Area Name                           8936 non-null   object        \n",
      " 2   Road/Intersection Name              8936 non-null   object        \n",
      " 3   Traffic Volume                      8936 non-null   int64         \n",
      " 4   Average Speed                       8936 non-null   float64       \n",
      " 5   Travel Time Index                   8936 non-null   float64       \n",
      " 6   Congestion Level                    8936 non-null   float64       \n",
      " 7   Road Capacity Utilization           8936 non-null   float64       \n",
      " 8   Incident Reports                    8936 non-null   int64         \n",
      " 9   Environmental Impact                8936 non-null   float64       \n",
      " 10  Public Transport Usage              8936 non-null   float64       \n",
      " 11  Traffic Signal Compliance           8936 non-null   float64       \n",
      " 12  Parking Usage                       8936 non-null   float64       \n",
      " 13  Pedestrian and Cyclist Count        8936 non-null   int64         \n",
      " 14  Weather Conditions                  8936 non-null   object        \n",
      " 15  Roadwork and Construction Activity  8936 non-null   object        \n",
      "dtypes: datetime64[ns](1), float64(8), int64(3), object(4)\n",
      "memory usage: 1.1+ MB\n"
     ]
    }
   ],
   "source": [
    "# Changing the of 'date' from 'object' to 'datetime' object\n",
    "df_copy['Date'] = pd.to_datetime(df_copy['Date'])\n",
    "df_copy.info()"
   ]
  },
  {
   "cell_type": "code",
   "execution_count": 10,
   "id": "7a0468e2",
   "metadata": {},
   "outputs": [
    {
     "data": {
      "text/plain": [
       "array(['Clear', 'Overcast', 'Fog', 'Rain', 'Windy'], dtype=object)"
      ]
     },
     "execution_count": 10,
     "metadata": {},
     "output_type": "execute_result"
    }
   ],
   "source": [
    "df_copy['Weather Conditions'].unique()"
   ]
  },
  {
   "cell_type": "code",
   "execution_count": 11,
   "id": "e4024a9c",
   "metadata": {},
   "outputs": [
    {
     "data": {
      "text/plain": [
       "array(['Indiranagar', 'Whitefield', 'Koramangala', 'M.G. Road',\n",
       "       'Jayanagar', 'Hebbal', 'Yeshwanthpur', 'Electronic City'],\n",
       "      dtype=object)"
      ]
     },
     "execution_count": 11,
     "metadata": {},
     "output_type": "execute_result"
    }
   ],
   "source": [
    "df_copy['Area Name'].unique()"
   ]
  },
  {
   "cell_type": "code",
   "execution_count": 12,
   "id": "3bd468eb",
   "metadata": {},
   "outputs": [
    {
     "data": {
      "text/plain": [
       "array(['100 Feet Road', 'CMH Road', 'Marathahalli Bridge',\n",
       "       'Sony World Junction', 'Sarjapur Road', 'Trinity Circle',\n",
       "       'Anil Kumble Circle', 'Jayanagar 4th Block', 'South End Circle',\n",
       "       'Hebbal Flyover', 'Ballari Road', 'Yeshwanthpur Circle',\n",
       "       'Tumkur Road', 'ITPL Main Road', 'Silk Board Junction',\n",
       "       'Hosur Road'], dtype=object)"
      ]
     },
     "execution_count": 12,
     "metadata": {},
     "output_type": "execute_result"
    }
   ],
   "source": [
    "df_copy['Road/Intersection Name'].unique()"
   ]
  },
  {
   "cell_type": "code",
   "execution_count": 13,
   "id": "b16afd50",
   "metadata": {},
   "outputs": [
    {
     "data": {
      "text/plain": [
       "array(['No', 'Yes'], dtype=object)"
      ]
     },
     "execution_count": 13,
     "metadata": {},
     "output_type": "execute_result"
    }
   ],
   "source": [
    "df_copy['Roadwork and Construction Activity'].unique()"
   ]
  },
  {
   "cell_type": "code",
   "execution_count": 14,
   "id": "107d9cb3",
   "metadata": {},
   "outputs": [],
   "source": [
    "# Creating new columns from date to use this is future to create the dashboard\n",
    "df_copy['Day of Week'] = df_copy['Date'].dt.day_of_week\n",
    "df_copy['Is Weekend'] = (df_copy['Day of Week'] >= 5).astype(int)\n",
    "df_copy['Day Name'] = df_copy['Date'].dt.day_name()\n",
    "df_copy['Month'] = df_copy['Date'].dt.month\n",
    "df_copy['Year'] = df_copy['Date'].dt.year"
   ]
  },
  {
   "cell_type": "code",
   "execution_count": 15,
   "id": "20c33241",
   "metadata": {},
   "outputs": [
    {
     "name": "stdout",
     "output_type": "stream",
     "text": [
      "<class 'pandas.core.frame.DataFrame'>\n",
      "RangeIndex: 8936 entries, 0 to 8935\n",
      "Data columns (total 21 columns):\n",
      " #   Column                              Non-Null Count  Dtype         \n",
      "---  ------                              --------------  -----         \n",
      " 0   Date                                8936 non-null   datetime64[ns]\n",
      " 1   Area Name                           8936 non-null   object        \n",
      " 2   Road/Intersection Name              8936 non-null   object        \n",
      " 3   Traffic Volume                      8936 non-null   int64         \n",
      " 4   Average Speed                       8936 non-null   float64       \n",
      " 5   Travel Time Index                   8936 non-null   float64       \n",
      " 6   Congestion Level                    8936 non-null   float64       \n",
      " 7   Road Capacity Utilization           8936 non-null   float64       \n",
      " 8   Incident Reports                    8936 non-null   int64         \n",
      " 9   Environmental Impact                8936 non-null   float64       \n",
      " 10  Public Transport Usage              8936 non-null   float64       \n",
      " 11  Traffic Signal Compliance           8936 non-null   float64       \n",
      " 12  Parking Usage                       8936 non-null   float64       \n",
      " 13  Pedestrian and Cyclist Count        8936 non-null   int64         \n",
      " 14  Weather Conditions                  8936 non-null   object        \n",
      " 15  Roadwork and Construction Activity  8936 non-null   object        \n",
      " 16  Day of Week                         8936 non-null   int32         \n",
      " 17  Is Weekend                          8936 non-null   int64         \n",
      " 18  Day Name                            8936 non-null   object        \n",
      " 19  Month                               8936 non-null   int32         \n",
      " 20  Year                                8936 non-null   int32         \n",
      "dtypes: datetime64[ns](1), float64(8), int32(3), int64(4), object(5)\n",
      "memory usage: 1.3+ MB\n"
     ]
    }
   ],
   "source": [
    "df_copy.info()"
   ]
  },
  {
   "cell_type": "code",
   "execution_count": 16,
   "id": "78632faa",
   "metadata": {},
   "outputs": [
    {
     "name": "stdout",
     "output_type": "stream",
     "text": [
      "[5 6 0 1 2 3 4]\n"
     ]
    }
   ],
   "source": [
    "print(df_copy['Day of Week'].unique())"
   ]
  },
  {
   "cell_type": "code",
   "execution_count": 17,
   "id": "30424aee",
   "metadata": {},
   "outputs": [
    {
     "name": "stdout",
     "output_type": "stream",
     "text": [
      "[1 0]\n"
     ]
    }
   ],
   "source": [
    "print(df_copy['Is Weekend'].unique())"
   ]
  },
  {
   "cell_type": "code",
   "execution_count": 18,
   "id": "ac588b0d",
   "metadata": {},
   "outputs": [
    {
     "name": "stdout",
     "output_type": "stream",
     "text": [
      "['Saturday' 'Sunday' 'Monday' 'Tuesday' 'Wednesday' 'Thursday' 'Friday']\n"
     ]
    }
   ],
   "source": [
    "print(df_copy['Day Name'].unique())"
   ]
  },
  {
   "cell_type": "code",
   "execution_count": 19,
   "id": "628613ab",
   "metadata": {},
   "outputs": [
    {
     "name": "stdout",
     "output_type": "stream",
     "text": [
      "[ 1  2  3  4  5  6  7  8  9 10 11 12]\n"
     ]
    }
   ],
   "source": [
    "print(df_copy['Month'].unique())"
   ]
  },
  {
   "cell_type": "code",
   "execution_count": 20,
   "id": "77bdd84b",
   "metadata": {},
   "outputs": [
    {
     "name": "stdout",
     "output_type": "stream",
     "text": [
      "[2022 2023 2024]\n"
     ]
    }
   ],
   "source": [
    "print(df_copy['Year'].unique())"
   ]
  },
  {
   "cell_type": "code",
   "execution_count": 21,
   "id": "570fdacb",
   "metadata": {},
   "outputs": [
    {
     "data": {
      "text/html": [
       "<div>\n",
       "<style scoped>\n",
       "    .dataframe tbody tr th:only-of-type {\n",
       "        vertical-align: middle;\n",
       "    }\n",
       "\n",
       "    .dataframe tbody tr th {\n",
       "        vertical-align: top;\n",
       "    }\n",
       "\n",
       "    .dataframe thead th {\n",
       "        text-align: right;\n",
       "    }\n",
       "</style>\n",
       "<table border=\"1\" class=\"dataframe\">\n",
       "  <thead>\n",
       "    <tr style=\"text-align: right;\">\n",
       "      <th></th>\n",
       "      <th>Date</th>\n",
       "      <th>Area Name</th>\n",
       "      <th>Road/Intersection Name</th>\n",
       "      <th>Traffic Volume</th>\n",
       "      <th>Average Speed</th>\n",
       "      <th>Travel Time Index</th>\n",
       "      <th>Congestion Level</th>\n",
       "      <th>Road Capacity Utilization</th>\n",
       "      <th>Incident Reports</th>\n",
       "      <th>Environmental Impact</th>\n",
       "      <th>...</th>\n",
       "      <th>Traffic Signal Compliance</th>\n",
       "      <th>Parking Usage</th>\n",
       "      <th>Pedestrian and Cyclist Count</th>\n",
       "      <th>Weather Conditions</th>\n",
       "      <th>Roadwork and Construction Activity</th>\n",
       "      <th>Day of Week</th>\n",
       "      <th>Is Weekend</th>\n",
       "      <th>Day Name</th>\n",
       "      <th>Month</th>\n",
       "      <th>Year</th>\n",
       "    </tr>\n",
       "  </thead>\n",
       "  <tbody>\n",
       "    <tr>\n",
       "      <th>0</th>\n",
       "      <td>2022-01-01</td>\n",
       "      <td>Indiranagar</td>\n",
       "      <td>100 Feet Road</td>\n",
       "      <td>50590</td>\n",
       "      <td>50.230299</td>\n",
       "      <td>1.500000</td>\n",
       "      <td>100.000000</td>\n",
       "      <td>100.000000</td>\n",
       "      <td>0</td>\n",
       "      <td>151.180</td>\n",
       "      <td>...</td>\n",
       "      <td>84.044600</td>\n",
       "      <td>85.403629</td>\n",
       "      <td>111</td>\n",
       "      <td>Clear</td>\n",
       "      <td>No</td>\n",
       "      <td>5</td>\n",
       "      <td>1</td>\n",
       "      <td>Saturday</td>\n",
       "      <td>1</td>\n",
       "      <td>2022</td>\n",
       "    </tr>\n",
       "    <tr>\n",
       "      <th>1</th>\n",
       "      <td>2022-01-01</td>\n",
       "      <td>Indiranagar</td>\n",
       "      <td>CMH Road</td>\n",
       "      <td>30825</td>\n",
       "      <td>29.377125</td>\n",
       "      <td>1.500000</td>\n",
       "      <td>100.000000</td>\n",
       "      <td>100.000000</td>\n",
       "      <td>1</td>\n",
       "      <td>111.650</td>\n",
       "      <td>...</td>\n",
       "      <td>91.407038</td>\n",
       "      <td>59.983689</td>\n",
       "      <td>100</td>\n",
       "      <td>Clear</td>\n",
       "      <td>No</td>\n",
       "      <td>5</td>\n",
       "      <td>1</td>\n",
       "      <td>Saturday</td>\n",
       "      <td>1</td>\n",
       "      <td>2022</td>\n",
       "    </tr>\n",
       "    <tr>\n",
       "      <th>2</th>\n",
       "      <td>2022-01-01</td>\n",
       "      <td>Whitefield</td>\n",
       "      <td>Marathahalli Bridge</td>\n",
       "      <td>7399</td>\n",
       "      <td>54.474398</td>\n",
       "      <td>1.039069</td>\n",
       "      <td>28.347994</td>\n",
       "      <td>36.396525</td>\n",
       "      <td>0</td>\n",
       "      <td>64.798</td>\n",
       "      <td>...</td>\n",
       "      <td>61.375541</td>\n",
       "      <td>95.466020</td>\n",
       "      <td>189</td>\n",
       "      <td>Clear</td>\n",
       "      <td>No</td>\n",
       "      <td>5</td>\n",
       "      <td>1</td>\n",
       "      <td>Saturday</td>\n",
       "      <td>1</td>\n",
       "      <td>2022</td>\n",
       "    </tr>\n",
       "    <tr>\n",
       "      <th>3</th>\n",
       "      <td>2022-01-01</td>\n",
       "      <td>Koramangala</td>\n",
       "      <td>Sony World Junction</td>\n",
       "      <td>60874</td>\n",
       "      <td>43.817610</td>\n",
       "      <td>1.500000</td>\n",
       "      <td>100.000000</td>\n",
       "      <td>100.000000</td>\n",
       "      <td>1</td>\n",
       "      <td>171.748</td>\n",
       "      <td>...</td>\n",
       "      <td>75.547092</td>\n",
       "      <td>63.567452</td>\n",
       "      <td>111</td>\n",
       "      <td>Clear</td>\n",
       "      <td>No</td>\n",
       "      <td>5</td>\n",
       "      <td>1</td>\n",
       "      <td>Saturday</td>\n",
       "      <td>1</td>\n",
       "      <td>2022</td>\n",
       "    </tr>\n",
       "    <tr>\n",
       "      <th>4</th>\n",
       "      <td>2022-01-01</td>\n",
       "      <td>Koramangala</td>\n",
       "      <td>Sarjapur Road</td>\n",
       "      <td>57292</td>\n",
       "      <td>41.116763</td>\n",
       "      <td>1.500000</td>\n",
       "      <td>100.000000</td>\n",
       "      <td>100.000000</td>\n",
       "      <td>3</td>\n",
       "      <td>164.584</td>\n",
       "      <td>...</td>\n",
       "      <td>64.634762</td>\n",
       "      <td>93.155171</td>\n",
       "      <td>104</td>\n",
       "      <td>Clear</td>\n",
       "      <td>No</td>\n",
       "      <td>5</td>\n",
       "      <td>1</td>\n",
       "      <td>Saturday</td>\n",
       "      <td>1</td>\n",
       "      <td>2022</td>\n",
       "    </tr>\n",
       "  </tbody>\n",
       "</table>\n",
       "<p>5 rows × 21 columns</p>\n",
       "</div>"
      ],
      "text/plain": [
       "        Date    Area Name Road/Intersection Name  Traffic Volume  \\\n",
       "0 2022-01-01  Indiranagar          100 Feet Road           50590   \n",
       "1 2022-01-01  Indiranagar               CMH Road           30825   \n",
       "2 2022-01-01   Whitefield    Marathahalli Bridge            7399   \n",
       "3 2022-01-01  Koramangala    Sony World Junction           60874   \n",
       "4 2022-01-01  Koramangala          Sarjapur Road           57292   \n",
       "\n",
       "   Average Speed  Travel Time Index  Congestion Level  \\\n",
       "0      50.230299           1.500000        100.000000   \n",
       "1      29.377125           1.500000        100.000000   \n",
       "2      54.474398           1.039069         28.347994   \n",
       "3      43.817610           1.500000        100.000000   \n",
       "4      41.116763           1.500000        100.000000   \n",
       "\n",
       "   Road Capacity Utilization  Incident Reports  Environmental Impact  ...  \\\n",
       "0                 100.000000                 0               151.180  ...   \n",
       "1                 100.000000                 1               111.650  ...   \n",
       "2                  36.396525                 0                64.798  ...   \n",
       "3                 100.000000                 1               171.748  ...   \n",
       "4                 100.000000                 3               164.584  ...   \n",
       "\n",
       "   Traffic Signal Compliance  Parking Usage  Pedestrian and Cyclist Count  \\\n",
       "0                  84.044600      85.403629                           111   \n",
       "1                  91.407038      59.983689                           100   \n",
       "2                  61.375541      95.466020                           189   \n",
       "3                  75.547092      63.567452                           111   \n",
       "4                  64.634762      93.155171                           104   \n",
       "\n",
       "   Weather Conditions Roadwork and Construction Activity Day of Week  \\\n",
       "0               Clear                                 No           5   \n",
       "1               Clear                                 No           5   \n",
       "2               Clear                                 No           5   \n",
       "3               Clear                                 No           5   \n",
       "4               Clear                                 No           5   \n",
       "\n",
       "   Is Weekend  Day Name Month  Year  \n",
       "0           1  Saturday     1  2022  \n",
       "1           1  Saturday     1  2022  \n",
       "2           1  Saturday     1  2022  \n",
       "3           1  Saturday     1  2022  \n",
       "4           1  Saturday     1  2022  \n",
       "\n",
       "[5 rows x 21 columns]"
      ]
     },
     "execution_count": 21,
     "metadata": {},
     "output_type": "execute_result"
    }
   ],
   "source": [
    "df_copy.head()"
   ]
  },
  {
   "cell_type": "code",
   "execution_count": 22,
   "id": "f4b31d81",
   "metadata": {},
   "outputs": [],
   "source": [
    "# Exporting the cleaned and processed data\n",
    "df_copy.to_csv(\"..\\dataset\\processed_dataset.csv\", index = False)"
   ]
  },
  {
   "cell_type": "code",
   "execution_count": null,
   "id": "51038ac8",
   "metadata": {},
   "outputs": [],
   "source": []
  }
 ],
 "metadata": {
  "kernelspec": {
   "display_name": "venv_traffic",
   "language": "python",
   "name": "python3"
  },
  "language_info": {
   "codemirror_mode": {
    "name": "ipython",
    "version": 3
   },
   "file_extension": ".py",
   "mimetype": "text/x-python",
   "name": "python",
   "nbconvert_exporter": "python",
   "pygments_lexer": "ipython3",
   "version": "3.12.7"
  }
 },
 "nbformat": 4,
 "nbformat_minor": 5
}
